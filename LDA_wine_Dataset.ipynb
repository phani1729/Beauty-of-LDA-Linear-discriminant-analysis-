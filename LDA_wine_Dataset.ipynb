{
 "cells": [
  {
   "cell_type": "markdown",
   "metadata": {},
   "source": [
    "# Linear Discriminant Analysis(LDA)"
   ]
  },
  {
   "cell_type": "code",
   "execution_count": 26,
   "metadata": {},
   "outputs": [
    {
     "name": "stdout",
     "output_type": "stream",
     "text": [
      "Populating the interactive namespace from numpy and matplotlib\n"
     ]
    }
   ],
   "source": [
    "import warnings\n",
    "warnings.filterwarnings(\"ignore\")\n",
    "%pylab inline"
   ]
  },
  {
   "cell_type": "code",
   "execution_count": 2,
   "metadata": {},
   "outputs": [],
   "source": [
    "from sklearn import datasets\n",
    "from sklearn.discriminant_analysis import LinearDiscriminantAnalysis\n",
    "from sklearn import metrics\n",
    "import pandas as pd"
   ]
  },
  {
   "cell_type": "code",
   "execution_count": 3,
   "metadata": {},
   "outputs": [
    {
     "name": "stdout",
     "output_type": "stream",
     "text": [
      "[[1.423e+01 1.710e+00 2.430e+00 ... 1.040e+00 3.920e+00 1.065e+03]\n",
      " [1.320e+01 1.780e+00 2.140e+00 ... 1.050e+00 3.400e+00 1.050e+03]\n",
      " [1.316e+01 2.360e+00 2.670e+00 ... 1.030e+00 3.170e+00 1.185e+03]\n",
      " ...\n",
      " [1.327e+01 4.280e+00 2.260e+00 ... 5.900e-01 1.560e+00 8.350e+02]\n",
      " [1.317e+01 2.590e+00 2.370e+00 ... 6.000e-01 1.620e+00 8.400e+02]\n",
      " [1.413e+01 4.100e+00 2.740e+00 ... 6.100e-01 1.600e+00 5.600e+02]]\n"
     ]
    }
   ],
   "source": [
    "df_wine = datasets.load_wine()\n",
    "X = df_wine.data\n",
    "y = df_wine.target\n",
    "target_names = df_wine.target_names\n",
    "print(X)"
   ]
  },
  {
   "cell_type": "code",
   "execution_count": 28,
   "metadata": {},
   "outputs": [
    {
     "name": "stdout",
     "output_type": "stream",
     "text": [
      "['alcohol', 'malic_acid', 'ash', 'alcalinity_of_ash', 'magnesium', 'total_phenols', 'flavanoids', 'nonflavanoid_phenols', 'proanthocyanins', 'color_intensity', 'hue', 'od280/od315_of_diluted_wines', 'proline']\n",
      "['class_0' 'class_1' 'class_2']\n"
     ]
    }
   ],
   "source": [
    "print(df_wine.feature_names)\n",
    "print(target_names)"
   ]
  },
  {
   "cell_type": "code",
   "execution_count": 27,
   "metadata": {},
   "outputs": [],
   "source": [
    "from sklearn.cross_validation import train_test_split\n",
    "from sklearn.preprocessing import StandardScaler\n",
    "\n",
    "X_train, X_test, y_train, y_test = \\\n",
    "    train_test_split(X, y, test_size=0.3, random_state=0)\n",
    "\n",
    "sc = StandardScaler()\n",
    "X_train_std = sc.fit_transform(X_train)\n",
    "X_test_std = sc.transform(X_test)"
   ]
  },
  {
   "cell_type": "code",
   "execution_count": 5,
   "metadata": {},
   "outputs": [
    {
     "data": {
      "image/png": "[encoded data removed]",
      "text/plain": [
       "<Figure size 432x288 with 1 Axes>"
      ]
     },
     "metadata": {},
     "output_type": "display_data"
    }
   ],
   "source": [
    "from math import floor, ceil \n",
    "\n",
    "# the order of the colors for each histogram\n",
    "colors = ('red', 'green', 'blue')\n",
    "\n",
    "# bin width of the histogram in steps of 0.15\n",
    "bins = np.arange(floor(min(X[:,0])), ceil(max(X[:,0])), 0.15)\n",
    "\n",
    "# max count for a particular bin for all classes combined\n",
    "max_bin = max(np.histogram(X[:,0], bins=bins)[0])\n",
    "\n",
    "for label,color in zip(range(0,3), colors):\n",
    "    mean = np.mean(X[:,0][y == label]) # class sample mean\n",
    "    stdev = np.std(X[:,0][y == label]) # class standard deviation\n",
    "    hist(X[:,0][y == label], bins=bins, alpha=0.3, # opacity level\n",
    "             label='class {} ($\\mu={:.2f}$, $\\sigma={:.2f}$)'.format(label, mean, stdev),\n",
    "             color=color)\n",
    "\n",
    "ylim([0, max_bin*1.3])\n",
    "title('Wine data set - Distribution of alocohol contents')\n",
    "xlabel('alcohol by volume', fontsize=14)\n",
    "ylabel('count', fontsize=14)\n",
    "legend(loc='upper right')\n",
    "\n",
    "show()"
   ]
  },
  {
   "cell_type": "code",
   "execution_count": 6,
   "metadata": {},
   "outputs": [
    {
     "data": {
      "image/png": "[encoded data removed]",
      "text/plain": [
       "<Figure size 432x288 with 1 Axes>"
      ]
     },
     "metadata": {},
     "output_type": "display_data"
    }
   ],
   "source": [
    "from math import floor, ceil \n",
    "\n",
    "# the order of the colors for each histogram\n",
    "colors = ('red', 'green', 'blue')\n",
    "\n",
    "# bin width of the histogram in steps of 0.12\n",
    "bins = np.arange(floor(min(X[:,1])), ceil(max(X[:,1])), 0.12)\n",
    "\n",
    "# max count for a particular bin for all classes combined\n",
    "max_bin = max(np.histogram(X[:,1], bins=bins)[0])\n",
    "\n",
    "for label,color in zip(range(0,3), colors):\n",
    "    mean = np.mean(X[:,1][y == label]) # class sample mean\n",
    "    stdev = np.std(X[:,1][y == label]) # class standard deviation\n",
    "    hist(X[:,1][y == label], bins=bins, alpha=0.3, # opacity level\n",
    "             label='class {} ($\\mu={:.2f}$, $\\sigma={:.2f}$)'.format(label, mean, stdev),\n",
    "             color=color)\n",
    "\n",
    "ylim([0, max_bin])\n",
    "title('Wine data set - Distribution of Malic acid')\n",
    "xlabel('Malic acid by volume', fontsize=14)\n",
    "ylabel('count', fontsize=14)\n",
    "legend(loc='upper right')\n",
    "\n",
    "show()"
   ]
  },
  {
   "cell_type": "code",
   "execution_count": 7,
   "metadata": {},
   "outputs": [
    {
     "name": "stdout",
     "output_type": "stream",
     "text": [
      "MV 0: [ 0.9259 -0.3091  0.2592 -0.7989  0.3039  0.9608  1.0515 -0.6306  0.5354\n",
      "  0.2209  0.4855  0.798   1.2017]\n",
      "\n",
      "MV 1: [ 0.9259 -0.3091  0.2592 -0.7989  0.3039  0.9608  1.0515 -0.6306  0.5354\n",
      "  0.2209  0.4855  0.798   1.2017]\n",
      "\n",
      "MV 2: [-0.8727 -0.3854 -0.4437  0.2481 -0.2409 -0.1059  0.0187 -0.0164  0.1095\n",
      " -0.8796  0.4392  0.2776 -0.7016]\n",
      "\n"
     ]
    }
   ],
   "source": [
    "np.set_printoptions(precision=4)\n",
    "\n",
    "mean_vecs = []\n",
    "for label in range(0, 3):\n",
    "    mean_vecs.append(np.mean(X_train_std[y_train == label], axis=0))\n",
    "    print('MV %s: %s\\n' % (label, mean_vecs[label - 1]))"
   ]
  },
  {
   "cell_type": "code",
   "execution_count": 8,
   "metadata": {},
   "outputs": [
    {
     "data": {
      "text/plain": [
       "array([[ 0.9108, -0.4626, -0.0114, ...,  0.6571,  1.9435,  0.937 ],\n",
       "       [-0.9561, -0.9661, -1.5373, ..., -0.4086,  0.5812, -1.4134],\n",
       "       [ 0.3595,  1.675 , -0.3747, ..., -1.5595, -1.4485,  0.2868],\n",
       "       ...,\n",
       "       [-0.7055, -0.6834, -0.629 , ...,  0.4439,  0.4978, -1.3061],\n",
       "       [ 1.1489, -0.6216, -0.8833, ..., -0.1955,  1.0121,  0.7745],\n",
       "       [ 1.4747,  0.1116,  0.4245, ..., -1.4316, -1.2399, -0.2821]])"
      ]
     },
     "execution_count": 8,
     "metadata": {},
     "output_type": "execute_result"
    }
   ],
   "source": [
    "X_train_std"
   ]
  },
  {
   "cell_type": "code",
   "execution_count": 9,
   "metadata": {
    "scrolled": true
   },
   "outputs": [
    {
     "name": "stdout",
     "output_type": "stream",
     "text": [
      "Within-class scatter matrix: 13x13\n"
     ]
    }
   ],
   "source": [
    "d = 13  # number of features\n",
    "S_W = np.zeros((d, d))\n",
    "for label, mv in zip(range(0, 3), mean_vecs):\n",
    "    class_scatter = np.zeros((d, d))  # scatter matrix for each class\n",
    "    for row in X_train_std[y_train == label]:\n",
    "        row, mv = row.reshape(d, 1), mv.reshape(d, 1)  # make column vectors\n",
    "        class_scatter += (row - mv).dot((row - mv).T)\n",
    "    S_W += class_scatter                          # sum class scatter matrices\n",
    "\n",
    "print('Within-class scatter matrix: %sx%s' % (S_W.shape[0], S_W.shape[1]))"
   ]
  },
  {
   "cell_type": "code",
   "execution_count": 10,
   "metadata": {},
   "outputs": [
    {
     "name": "stdout",
     "output_type": "stream",
     "text": [
      "Class label distribution: [40 49 35]\n"
     ]
    }
   ],
   "source": [
    "print('Class label distribution: %s' % np.bincount(y_train)[0:])"
   ]
  },
  {
   "cell_type": "code",
   "execution_count": 11,
   "metadata": {
    "scrolled": true
   },
   "outputs": [
    {
     "name": "stdout",
     "output_type": "stream",
     "text": [
      "Scaled within-class scatter matrix: 13x13\n"
     ]
    }
   ],
   "source": [
    "d = 13  # number of features\n",
    "S_W = np.zeros((d, d))\n",
    "for label, mv in zip(range(0, 3), mean_vecs):\n",
    "    class_scatter = np.cov(X_train_std[y_train == label].T)\n",
    "    S_W += class_scatter\n",
    "print('Scaled within-class scatter matrix: %sx%s' % (S_W.shape[0],\n",
    "                                                     S_W.shape[1]))"
   ]
  },
  {
   "cell_type": "code",
   "execution_count": 12,
   "metadata": {},
   "outputs": [
    {
     "name": "stdout",
     "output_type": "stream",
     "text": [
      "Between-class scatter matrix: 13x13\n"
     ]
    }
   ],
   "source": [
    "mean_overall = np.mean(X_train_std, axis=0)\n",
    "d = 13  # number of features\n",
    "S_B = np.zeros((d, d))\n",
    "for i, mean_vec in enumerate(mean_vecs):\n",
    "    n = X_train[y_train == i + 1, :].shape[0]\n",
    "    mean_vec = mean_vec.reshape(d, 1)  # make column vector\n",
    "    mean_overall = mean_overall.reshape(d, 1)  # make column vector\n",
    "    S_B += n * (mean_vec - mean_overall).dot((mean_vec - mean_overall).T)\n",
    "\n",
    "print('Between-class scatter matrix: %sx%s' % (S_B.shape[0], S_B.shape[1]))"
   ]
  },
  {
   "cell_type": "code",
   "execution_count": 13,
   "metadata": {},
   "outputs": [
    {
     "data": {
      "text/plain": [
       "((13,), (13, 13))"
      ]
     },
     "execution_count": 13,
     "metadata": {},
     "output_type": "execute_result"
    }
   ],
   "source": [
    "eigen_vals, eigen_vecs = np.linalg.eig(np.linalg.inv(S_W).dot(S_B))\n",
    "eigen_vals.shape, eigen_vecs.shape"
   ]
  },
  {
   "cell_type": "code",
   "execution_count": 14,
   "metadata": {},
   "outputs": [
    {
     "data": {
      "text/plain": [
       "array([ 3.1118e+02+0.0000e+00j,  5.6210e+01+0.0000e+00j,\n",
       "       -5.0032e-14+0.0000e+00j,  2.2479e-14+1.7144e-14j,\n",
       "        2.2479e-14-1.7144e-14j, -1.7584e-14+6.1592e-15j,\n",
       "       -1.7584e-14-6.1592e-15j,  1.7621e-14+0.0000e+00j,\n",
       "       -3.1142e-15+0.0000e+00j, -9.6471e-16+4.2043e-15j,\n",
       "       -9.6471e-16-4.2043e-15j,  4.1474e-15+7.4028e-16j,\n",
       "        4.1474e-15-7.4028e-16j])"
      ]
     },
     "execution_count": 14,
     "metadata": {},
     "output_type": "execute_result"
    }
   ],
   "source": [
    "eigen_vals"
   ]
  },
  {
   "cell_type": "code",
   "execution_count": 15,
   "metadata": {},
   "outputs": [
    {
     "name": "stdout",
     "output_type": "stream",
     "text": [
      "Eigenvalues in decreasing order:\n",
      "\n",
      "311.1802582737582\n",
      "56.20970145134884\n",
      "5.0032386658967096e-14\n",
      "2.8270466421235385e-14\n",
      "2.8270466421235385e-14\n",
      "1.8631070065562153e-14\n",
      "1.8631070065562153e-14\n",
      "1.762098213761816e-14\n",
      "4.313532747970859e-15\n",
      "4.313532747970859e-15\n",
      "4.212981502448012e-15\n",
      "4.212981502448012e-15\n",
      "3.1142022184557223e-15\n"
     ]
    }
   ],
   "source": [
    "eigen_pairs = [(np.abs(eigen_vals[i]), eigen_vecs[:,i]) for i in range(len(eigen_vals))]\n",
    "eigen_pairs = sorted(eigen_pairs, key=lambda k: k[0], reverse=True)\n",
    "print('Eigenvalues in decreasing order:\\n')\n",
    "for eigen_val in eigen_pairs:\n",
    "    print (eigen_val[0])"
   ]
  },
  {
   "cell_type": "code",
   "execution_count": 16,
   "metadata": {},
   "outputs": [
    {
     "data": {
      "image/png": "[encoded data removed]",
      "text/plain": [
       "<Figure size 432x288 with 1 Axes>"
      ]
     },
     "metadata": {},
     "output_type": "display_data"
    }
   ],
   "source": [
    "tot = sum(eigen_vals.real)\n",
    "discr = [(i / tot) for i in sorted(eigen_vals.real, reverse=True)]\n",
    "cum_discr = np.cumsum(discr)\n",
    "bar(range(1, 14), discr, alpha=0.5, align='center', label='individual \"discriminability\"')\n",
    "step(range(1, 14), cum_discr, where='mid', label='cumulative \"discriminability\"')\n",
    "ylabel('\"discriminability\" ratio')\n",
    "xlabel('Linear Discriminants')\n",
    "ylim([-0.1, 1.1])\n",
    "legend(loc='best')\n",
    "show()"
   ]
  },
  {
   "cell_type": "code",
   "execution_count": 17,
   "metadata": {},
   "outputs": [
    {
     "data": {
      "text/plain": [
       "array([[ 1.6739e-01, -2.4986e-01],\n",
       "       [ 2.4270e-02, -1.9703e-01],\n",
       "       [ 1.2584e-01, -2.8120e-01],\n",
       "       [-2.5750e-01,  1.1011e-01],\n",
       "       [-6.5016e-04,  1.3279e-02],\n",
       "       [-2.2678e-01, -1.3841e-01],\n",
       "       [ 6.8217e-01,  6.6613e-01],\n",
       "       [ 5.7658e-02,  1.0857e-01],\n",
       "       [-1.3240e-01,  8.0337e-02],\n",
       "       [-9.6911e-02, -3.4462e-01],\n",
       "       [-2.3096e-03,  2.2648e-01],\n",
       "       [ 3.4029e-01,  3.1260e-01],\n",
       "       [ 4.7583e-01, -2.4179e-01]])"
      ]
     },
     "execution_count": 17,
     "metadata": {},
     "output_type": "execute_result"
    }
   ],
   "source": [
    "w = np.hstack((eigen_pairs[0][1][:, np.newaxis].real, \n",
    "               eigen_pairs[1][1][:, np.newaxis].real))\n",
    "w"
   ]
  },
  {
   "cell_type": "code",
   "execution_count": 18,
   "metadata": {},
   "outputs": [],
   "source": [
    "X_train_lda = X_train_std.dot(w)"
   ]
  },
  {
   "cell_type": "code",
   "execution_count": 19,
   "metadata": {},
   "outputs": [
    {
     "data": {
      "image/png": "[encoded data removed]",
      "text/plain": [
       "<Figure size 432x288 with 1 Axes>"
      ]
     },
     "metadata": {},
     "output_type": "display_data"
    }
   ],
   "source": [
    "from sklearn.discriminant_analysis import LinearDiscriminantAnalysis\n",
    "\n",
    "sklearn_lda = LinearDiscriminantAnalysis(n_components=2)\n",
    "transf_lda = sklearn_lda.fit_transform(X_train, y_train)\n",
    "\n",
    "for label,marker,color in zip(range(0,3),('x', 'o', '^'),('red', 'green', 'blue')):\n",
    "    scatter(x=transf_lda[:,0][y_train == label],\n",
    "                y=transf_lda[:,1][y_train == label],\n",
    "                marker=marker, color=color,\n",
    "                alpha=0.7, label='class {}'.format(label))\n",
    "\n",
    "xlabel('vector 1')\n",
    "ylabel('vector 2')\n",
    "\n",
    "legend(loc='lower right')\n",
    "title('Most significant singular vectors after linear transformation via LDA')\n",
    "\n",
    "show()"
   ]
  },
  {
   "cell_type": "code",
   "execution_count": 20,
   "metadata": {},
   "outputs": [
    {
     "data": {
      "text/plain": [
       "(124, 2)"
      ]
     },
     "execution_count": 20,
     "metadata": {},
     "output_type": "execute_result"
    }
   ],
   "source": [
    "transf_lda.shape"
   ]
  },
  {
   "cell_type": "code",
   "execution_count": 21,
   "metadata": {},
   "outputs": [],
   "source": [
    "X_test= sklearn_lda.transform(X_test)"
   ]
  },
  {
   "cell_type": "code",
   "execution_count": 22,
   "metadata": {},
   "outputs": [
    {
     "data": {
      "text/plain": [
       "(54, 2)"
      ]
     },
     "execution_count": 22,
     "metadata": {},
     "output_type": "execute_result"
    }
   ],
   "source": [
    "X_test.shape"
   ]
  },
  {
   "cell_type": "code",
   "execution_count": 23,
   "metadata": {},
   "outputs": [
    {
     "name": "stdout",
     "output_type": "stream",
     "text": [
      "0.9814814814814815\n",
      "[[18  0  0]\n",
      " [ 1 22  0]\n",
      " [ 0  0 13]]\n"
     ]
    }
   ],
   "source": [
    "# Decision Tree\n",
    "from sklearn import tree\n",
    "from sklearn.tree import DecisionTreeClassifier\n",
    "from sklearn.metrics import accuracy_score,confusion_matrix\n",
    "tree1=tree.DecisionTreeClassifier()\n",
    "dt_model=tree1.fit(transf_lda,y_train)\n",
    "pred=dt_model.predict(X_test)\n",
    "print(accuracy_score(pred,y_test))\n",
    "print(confusion_matrix(pred,y_test))"
   ]
  },
  {
   "cell_type": "code",
   "execution_count": 24,
   "metadata": {},
   "outputs": [
    {
     "name": "stdout",
     "output_type": "stream",
     "text": [
      "1.0\n",
      "[[19  0  0]\n",
      " [ 0 22  0]\n",
      " [ 0  0 13]]\n"
     ]
    }
   ],
   "source": [
    "#Support Vector Machine\n",
    "from sklearn import svm\n",
    "clf = svm.SVC()\n",
    "svc_model = clf.fit(transf_lda,y_train)\n",
    "sv_pred=svc_model.predict(X_test)\n",
    "print(accuracy_score(sv_pred,y_test))\n",
    "print(confusion_matrix(sv_pred,y_test))"
   ]
  },
  {
   "cell_type": "code",
   "execution_count": 25,
   "metadata": {},
   "outputs": [],
   "source": [
    "#from the above results, we can observe that Decision Trees is giving 98% accuracy where as Support Vector Machine is giving 100% accuracy after performing LDA."
   ]
  }
 ],
 "metadata": {
  "anaconda-cloud": {},
  "kernelspec": {
   "display_name": "Python 3",
   "language": "python",
   "name": "python3"
  },
  "language_info": {
   "codemirror_mode": {
    "name": "ipython",
    "version": 3
   },
   "file_extension": ".py",
   "mimetype": "text/x-python",
   "name": "python",
   "nbconvert_exporter": "python",
   "pygments_lexer": "ipython3",
   "version": "3.6.5"
  }
 },
 "nbformat": 4,
 "nbformat_minor": 1
}
